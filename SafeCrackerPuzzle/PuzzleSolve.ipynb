{
 "cells": [
  {
   "cell_type": "markdown",
   "id": "e6974151",
   "metadata": {},
   "source": [
    "# Brute Force Solution to Safe Cracker Puzzle"
   ]
  },
  {
   "cell_type": "markdown",
   "id": "f6aa40d1",
   "metadata": {},
   "source": [
    "## The Puzzle"
   ]
  },
  {
   "cell_type": "markdown",
   "id": "533393e2",
   "metadata": {},
   "source": [
    "To view or purchase the puzzle, click [here](https://www.amazon.com/Creative-Crafthouse-Safecracker-Difficult-Puzzles/dp/B08GCTFKV2).\n",
    "\n",
    "The objective of the puzzle is to rotate the 4 movable discs in such a way that each of the 16 columns sum to the target of 50.  Since there are 16 different positions for each movable disc, the number of possibilities are $4^{16} = 65,536$ different possible combinations."
   ]
  },
  {
   "cell_type": "markdown",
   "id": "a985465d",
   "metadata": {},
   "source": [
    "## Solving the Puzzle\n",
    "\n",
    "In order to solve the puzzle through brute force, we need to be able to model the puzzle as a matrix and its rotation mechanism as a transformation on the matrix.  The numbers that go around the disc will be the rows of the matrix.\n",
    "\n",
    "Since the movable discs have only 8 numbers each with a space between each number, we will define two types of rows.  The $base$ matrix will store the discs that do not rotate and have all 16 numbers.  The $top$ matrix will store the discs that do rotate and only have 8 numbers.\n",
    "\n",
    "Depending on the position of the $top$ discs, 8 of the $base$ numbers will be covered by the $top$ numbers for a each row index.  Below shows a mini example of a roation."
   ]
  },
  {
   "cell_type": "markdown",
   "id": "fde6958a",
   "metadata": {},
   "source": [
    "<img src=\"ex.jpg\">"
   ]
  },
  {
   "cell_type": "markdown",
   "id": "12182c58",
   "metadata": {},
   "source": [
    "Since the top row either covers the even or odd indexed columns, $top$_$index$ will be a vector where index $i = 0$ if the top row covers the even indexed columns and $1$ otherwise. "
   ]
  },
  {
   "cell_type": "code",
   "execution_count": 1,
   "id": "63951bde",
   "metadata": {},
   "outputs": [],
   "source": [
    "import numpy as np\n",
    "\n",
    "base = np.array([\n",
    "    [8, 4, 15, 7, 10, 1, 10, 4, 5, 3, 15, 16, 4, 7, 0, 16],\n",
    "    [13, 10, 18, 10, 10, 10, 10, 15, 7, 19, 18, 2, 9, 27, 13, 11],\n",
    "    [24, 8, 10, 20, 7, 20, 12, 1, 10, 12, 22, 0, 5, 8, 5, 1],\n",
    "    [0, 22, 19, 10, 0, 5, 20, 8, 19, 10, 15, 20, 12, 20, 13, 13],\n",
    "    [8, 17, 4, 20, 4, 14, 4, 5, 1, 14, 10, 17, 10, 5, 6, 18]\n",
    "    ])\n",
    "\n",
    "top = np.array([\n",
    "    [10, 8, 10, 9, 8, 8, 9, 6],\n",
    "    [10, 11, 10, 0, 11, 8, 8, 8],\n",
    "    [14, 11, 8, 12, 11, 3, 8, 10],\n",
    "    [6, 6, 8, 8, 16, 19, 8, 17]\n",
    "    ])\n",
    "\n",
    "top_index = np.zeros(len(top))\n",
    "\n",
    "target = 50"
   ]
  },
  {
   "cell_type": "markdown",
   "id": "e86f2f0f",
   "metadata": {},
   "source": [
    "The below funtion simply takes the $top$ matrix, and adds zeros where there are the resulting gaps."
   ]
  },
  {
   "cell_type": "code",
   "execution_count": 2,
   "id": "43c43193",
   "metadata": {},
   "outputs": [],
   "source": [
    "def ApplyTopGaps(top):\n",
    "    \n",
    "    newtop = []\n",
    "    for r in top:\n",
    "        newr = []\n",
    "        for i in r:\n",
    "            newr += [i, 0]\n",
    "        newtop.append(newr)\n",
    "    newtop = np.array(newtop)\n",
    "    \n",
    "    return newtop"
   ]
  },
  {
   "cell_type": "code",
   "execution_count": 3,
   "id": "563850e0",
   "metadata": {},
   "outputs": [
    {
     "data": {
      "text/plain": [
       "array([[10,  8, 10,  9,  8,  8,  9,  6],\n",
       "       [10, 11, 10,  0, 11,  8,  8,  8],\n",
       "       [14, 11,  8, 12, 11,  3,  8, 10],\n",
       "       [ 6,  6,  8,  8, 16, 19,  8, 17]])"
      ]
     },
     "execution_count": 3,
     "metadata": {},
     "output_type": "execute_result"
    }
   ],
   "source": [
    "top"
   ]
  },
  {
   "cell_type": "code",
   "execution_count": 4,
   "id": "0e8822d3",
   "metadata": {},
   "outputs": [],
   "source": [
    "top = ApplyTopGaps(top)"
   ]
  },
  {
   "cell_type": "code",
   "execution_count": 5,
   "id": "1c33da35",
   "metadata": {},
   "outputs": [
    {
     "data": {
      "text/plain": [
       "array([[10,  0,  8,  0, 10,  0,  9,  0,  8,  0,  8,  0,  9,  0,  6,  0],\n",
       "       [10,  0, 11,  0, 10,  0,  0,  0, 11,  0,  8,  0,  8,  0,  8,  0],\n",
       "       [14,  0, 11,  0,  8,  0, 12,  0, 11,  0,  3,  0,  8,  0, 10,  0],\n",
       "       [ 6,  0,  6,  0,  8,  0,  8,  0, 16,  0, 19,  0,  8,  0, 17,  0]])"
      ]
     },
     "execution_count": 5,
     "metadata": {},
     "output_type": "execute_result"
    }
   ],
   "source": [
    "top"
   ]
  },
  {
   "cell_type": "markdown",
   "id": "b8c7ca13",
   "metadata": {},
   "source": [
    "The below function takes our $base$ and $top$ matrices along with the location of each top row to create a single matrix representation of the current state of the puzzle in matrix form.  Lastly, it checks if each column sums to the target."
   ]
  },
  {
   "cell_type": "code",
   "execution_count": 6,
   "id": "a31d9334",
   "metadata": {},
   "outputs": [],
   "source": [
    "def GenerateBoard(base, top, top_index, target = 50):\n",
    "    \n",
    "    board = np.copy(base)\n",
    "    for j in range(1,len(base)):\n",
    "        board[j] = [0 if not i % 2 - top_index[j - 1] else x for i, x in enumerate(base[j])]\n",
    "        board[j] += top[j - 1]\n",
    "        \n",
    "    board_sum = np.sum(board, axis = 0)\n",
    "    \n",
    "    #print(board_sum)\n",
    "    \n",
    "    flag = all(board_sum == target)\n",
    "        \n",
    "    return board, flag"
   ]
  },
  {
   "cell_type": "markdown",
   "id": "89e82eef",
   "metadata": {},
   "source": [
    "The below functions rotate the $top$ rows and its corresponding $base$ rows."
   ]
  },
  {
   "cell_type": "code",
   "execution_count": 7,
   "id": "5a5fc31b",
   "metadata": {},
   "outputs": [],
   "source": [
    "def Rotate(top, top_index, N):\n",
    "    \n",
    "    newtop = np.copy(top)\n",
    "    newindex = np.copy(top_index)\n",
    "    row = 0\n",
    "    for n in N:\n",
    "        if n % 2 == 1:\n",
    "            if newindex[row] == 0:\n",
    "                newindex[row] = 1\n",
    "            else:\n",
    "                newindex[row] = 0\n",
    "        newtop[row] = np.roll(newtop[row], n)\n",
    "        row += 1\n",
    "    \n",
    "    return newtop, newindex\n",
    "\n",
    "def RotateBase(base, N):\n",
    "    \n",
    "    newbase = np.copy(base)\n",
    "    row = 2\n",
    "    for n in N[:-1]:\n",
    "        newbase[row] = np.roll(newbase[row], n)\n",
    "        row += 1\n",
    "    \n",
    "    return newbase"
   ]
  },
  {
   "cell_type": "markdown",
   "id": "239533ad",
   "metadata": {},
   "source": [
    "Lastly, the driver function takes all of our input and iterates over each possible combination until finding the solution."
   ]
  },
  {
   "cell_type": "code",
   "execution_count": 8,
   "id": "f5bba9eb",
   "metadata": {},
   "outputs": [],
   "source": [
    "def Driver(base, top, top_index, target = 50):\n",
    "    \n",
    "    top_rows = len(top)\n",
    "    columns = range(len(top[0])+1)\n",
    "    comb = [(a,b,c,d) for a in columns for b in columns for c in columns for d in columns]\n",
    "    \n",
    "    flag = False\n",
    "    i = 1\n",
    "    \n",
    "    while not flag:\n",
    "        c = list(comb[i])\n",
    "        #print(\"Iteration \" + str(i))\n",
    "        #print(c)\n",
    "        newtop, newindex = Rotate(top, top_index, c) \n",
    "        newbase = RotateBase(base, c)\n",
    "        newboard, flag = GenerateBoard(newbase, newtop, newindex, target)   \n",
    "        i += 1\n",
    "        \n",
    "    if flag:\n",
    "        print(\"Solution found at iteration \" + str(i))\n",
    "            \n",
    "    return newboard, c"
   ]
  },
  {
   "cell_type": "code",
   "execution_count": 9,
   "id": "29f99fa3",
   "metadata": {},
   "outputs": [
    {
     "name": "stdout",
     "output_type": "stream",
     "text": [
      "Solution found at iteration 57339\n",
      "Runtime = 11.41 seconds.\n"
     ]
    }
   ],
   "source": [
    "import time\n",
    "\n",
    "start = time.time()\n",
    "solution, rotations = Driver(base, top, top_index, target)\n",
    "end = time.time()\n",
    "\n",
    "print(\"Runtime = \" + str(round(end - start, 2)) + \" seconds.\")"
   ]
  },
  {
   "cell_type": "code",
   "execution_count": 10,
   "id": "40540892",
   "metadata": {},
   "outputs": [
    {
     "data": {
      "text/plain": [
       "array([[ 8,  4, 15,  7, 10,  1, 10,  4,  5,  3, 15, 16,  4,  7,  0, 16],\n",
       "       [13,  9, 18,  8, 10,  8, 10,  9,  7,  6, 18, 10,  9,  8, 13, 10],\n",
       "       [20,  0,  1, 11, 12,  8,  0,  8,  8,  8,  1, 10,  8, 11, 20, 10],\n",
       "       [ 3, 20,  8, 19, 10, 15, 14, 12, 11, 13,  8,  0, 12, 19, 11,  0],\n",
       "       [ 6, 17,  8,  5,  8, 18, 16, 17, 19, 20,  8, 14, 17,  5,  6, 14]])"
      ]
     },
     "execution_count": 10,
     "metadata": {},
     "output_type": "execute_result"
    }
   ],
   "source": [
    "solution"
   ]
  },
  {
   "cell_type": "code",
   "execution_count": 11,
   "id": "94ad65c0",
   "metadata": {},
   "outputs": [
    {
     "data": {
      "text/plain": [
       "array([50, 50, 50, 50, 50, 50, 50, 50, 50, 50, 50, 50, 50, 50, 50, 50])"
      ]
     },
     "execution_count": 11,
     "metadata": {},
     "output_type": "execute_result"
    }
   ],
   "source": [
    "np.sum(solution, axis = 0)"
   ]
  },
  {
   "cell_type": "code",
   "execution_count": 12,
   "id": "606e9cc8",
   "metadata": {},
   "outputs": [
    {
     "data": {
      "text/plain": [
       "[11, 11, 6, 14]"
      ]
     },
     "execution_count": 12,
     "metadata": {},
     "output_type": "execute_result"
    }
   ],
   "source": [
    "rotations"
   ]
  },
  {
   "cell_type": "markdown",
   "id": "78c71201",
   "metadata": {},
   "source": [
    "The solution shows us the matrix representation of the solved puzzle, and the rotations variable tells us how many times we need to rotate the $top$ discs from the original position to arrive at the solution."
   ]
  }
 ],
 "metadata": {
  "kernelspec": {
   "display_name": "Python 3 (ipykernel)",
   "language": "python",
   "name": "python3"
  },
  "language_info": {
   "codemirror_mode": {
    "name": "ipython",
    "version": 3
   },
   "file_extension": ".py",
   "mimetype": "text/x-python",
   "name": "python",
   "nbconvert_exporter": "python",
   "pygments_lexer": "ipython3",
   "version": "3.8.11"
  }
 },
 "nbformat": 4,
 "nbformat_minor": 5
}
