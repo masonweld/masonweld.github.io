{
 "cells": [
  {
   "cell_type": "markdown",
   "metadata": {},
   "source": [
    "# Sudoku Solver"
   ]
  },
  {
   "cell_type": "markdown",
   "metadata": {},
   "source": [
    "Problem Description: Given a 9 x 9 grid with some numbers already given, each row, column, and 3 x 3 sub-grid must have exactly one of each numbers from 1 to 9.\n",
    "\n",
    "Solution Method: Binary Integer Program using Python.  The first solver uses CPLEX, and the second solver uses Gurobi."
   ]
  },
  {
   "cell_type": "markdown",
   "metadata": {},
   "source": [
    "# 1) Solving with CPLEX"
   ]
  },
  {
   "cell_type": "markdown",
   "metadata": {},
   "source": [
    "## Step 1.1: Import Packages and Store Given Sudoku Grid"
   ]
  },
  {
   "cell_type": "markdown",
   "metadata": {},
   "source": [
    "The grid will be stored as a Numpy Array, where the empty cells will be denoted with a zero.  The grid can be initialized by calling a file or explicitly forming it."
   ]
  },
  {
   "cell_type": "code",
   "execution_count": 32,
   "metadata": {},
   "outputs": [],
   "source": [
    "from docplex.mp.model import Model\n",
    "from docplex.util.environment import get_environment\n",
    "import numpy as np\n",
    "from numpy import genfromtxt\n",
    "import pandas as pd\n",
    "import time"
   ]
  },
  {
   "cell_type": "code",
   "execution_count": 33,
   "metadata": {},
   "outputs": [],
   "source": [
    "# read csv sudoku grid\n",
    "#GRID = genfromtxt(\"sudoku_grid1.csv\", delimiter=',')\n",
    "\n",
    "# or directly declare grid\n",
    "GRID = np.array([[8, 7, 6, 9, 0, 0, 0, 0, 0],\n",
    "                 [0, 1, 0, 0, 0, 6, 0, 0, 0],\n",
    "                 [0, 4, 0, 3, 0, 5, 8, 0, 0],\n",
    "                 [4, 0, 0, 0, 0, 0, 2, 1, 0],\n",
    "                 [0, 9, 0, 5, 0, 0, 0, 0, 0],\n",
    "                 [0, 5, 0, 0, 4, 0, 3, 0, 6],\n",
    "                 [0, 2, 9, 0, 0, 0, 0, 0, 8],\n",
    "                 [0, 0, 4, 6, 9, 0, 1, 7, 3],\n",
    "                 [0, 0, 0, 0, 0, 1, 0, 0, 4]])"
   ]
  },
  {
   "cell_type": "markdown",
   "metadata": {},
   "source": [
    "## Step 1.2: Build CPLEX Binary Integer Program"
   ]
  },
  {
   "cell_type": "code",
   "execution_count": 34,
   "metadata": {},
   "outputs": [],
   "source": [
    "def build_sudoku_model_cplex(grid, **kwargs):\n",
    "    # create model\n",
    "    m = Model(name='Sudoku', **kwargs)\n",
    "    # create variables\n",
    "    # x(i,j,k) = 1 if number k is in row i col j\n",
    "    v  = {(i,j,k): m.binary_var(name=\"x_{0}_{1}_{2}\".format(i,j,k)) for i in range(9) for j in range(9) for k in range(9)}\n",
    "    \n",
    "    # constrain given numbers\n",
    "    for i in range(9):\n",
    "        for j in range(9):\n",
    "            if grid[i][j] != 0:\n",
    "                c = m.add_constraint(v[i,j,grid[i][j]-1] == 1)\n",
    "    \n",
    "    # constrain each cell to have one number \n",
    "    for i in range(9):\n",
    "        for j in range(9):\n",
    "            m.add_constraint(m.sum(v[i,j,k] for k in range(9)) == 1)\n",
    "    \n",
    "    # constrain each column to have one of each number\n",
    "    for j in range(9):\n",
    "        for k in range(9):\n",
    "            m.add_constraint(m.sum(v[i,j,k] for i in range(9)) == 1)\n",
    "    \n",
    "    # constrain each row to have one of each number\n",
    "    for i in range(9):\n",
    "        for k in range(9):\n",
    "            m.add_constraint(m.sum(v[i,j,k] for j in range(9)) == 1)\n",
    "     \n",
    "    # constrain each 3x3 box to have one of each number\n",
    "    for a in range(3):\n",
    "        for b in range(3):\n",
    "            for k in range(9):\n",
    "                box_row = [3*a, 3*a+1, 3*a+2]\n",
    "                box_col = [3*b, 3*b+1, 3*b+2]\n",
    "                m.add_constraint(m.sum(v[i,j,k] for i in box_row\n",
    "                                       for j in box_col) == 1)\n",
    "    \n",
    "    # arbitrary objective funcion\n",
    "    m.minimize(1)\n",
    "    return m, v"
   ]
  },
  {
   "cell_type": "markdown",
   "metadata": {},
   "source": [
    "## Step 1.3: Function for Printing Solution"
   ]
  },
  {
   "cell_type": "code",
   "execution_count": 35,
   "metadata": {},
   "outputs": [],
   "source": [
    "def print_solution(variables):\n",
    "    # create pandas df to store solution and print solution\n",
    "    opt_df = pd.DataFrame.from_dict(variables, orient=\"index\", columns = [\"variable_object\"])\n",
    "    opt_df.index = pd.MultiIndex.from_tuples(opt_df.index, names=[\"i\", \"j\", \"k\"])\n",
    "    opt_df.reset_index(inplace=True)\n",
    "    opt_df[\"solution_value\"] = opt_df[\"variable_object\"].apply(lambda item: item.solution_value)\n",
    "    solution = np.zeros((9,9))\n",
    "    for i, row in opt_df.iterrows():\n",
    "        if row[\"solution_value\"] == 1:\n",
    "            solution[int(row[\"i\"])][int(row[\"j\"])] = int(row[\"k\"]) + 1\n",
    "    print(solution)"
   ]
  },
  {
   "cell_type": "markdown",
   "metadata": {},
   "source": [
    "## Step 1.4: Run, Solve, and Print Solution"
   ]
  },
  {
   "cell_type": "code",
   "execution_count": 36,
   "metadata": {},
   "outputs": [
    {
     "name": "stdout",
     "output_type": "stream",
     "text": [
      "Model: Sudoku\n",
      " - number of variables: 729\n",
      "   - binary=729, integer=0, continuous=0\n",
      " - number of constraints: 354\n",
      "   - linear=354\n",
      " - parameters: defaults\n",
      " - objective: none\n",
      " - problem type is: MILP\n",
      "Solution Found in 0.07341623306274414 seconds.\n",
      "[[8. 7. 6. 9. 1. 4. 5. 3. 2.]\n",
      " [3. 1. 5. 2. 8. 6. 7. 4. 9.]\n",
      " [9. 4. 2. 3. 7. 5. 8. 6. 1.]\n",
      " [4. 3. 8. 7. 6. 9. 2. 1. 5.]\n",
      " [6. 9. 1. 5. 2. 3. 4. 8. 7.]\n",
      " [2. 5. 7. 1. 4. 8. 3. 9. 6.]\n",
      " [1. 2. 9. 4. 3. 7. 6. 5. 8.]\n",
      " [5. 8. 4. 6. 9. 2. 1. 7. 3.]\n",
      " [7. 6. 3. 8. 5. 1. 9. 2. 4.]]\n"
     ]
    }
   ],
   "source": [
    "if __name__ == '__main__':\n",
    "    # Build the model\n",
    "    start_time = time.time()\n",
    "    model, variables = build_sudoku_model_cplex(GRID)\n",
    "    model.print_information()\n",
    "    # Solve the model.\n",
    "    if model.solve():\n",
    "        t = time.time() - start_time\n",
    "        print(\"Solution Found in \" + str(t) + \" seconds.\")\n",
    "        print_solution(variables)\n",
    "    else:\n",
    "        print(\"Sudoku grid given has no solution\")"
   ]
  },
  {
   "cell_type": "markdown",
   "metadata": {},
   "source": [
    "# 2) Solving With Gurobi"
   ]
  },
  {
   "cell_type": "markdown",
   "metadata": {},
   "source": [
    "## Step 2.1: Import Packages and Store Given Sudoku Grid"
   ]
  },
  {
   "cell_type": "code",
   "execution_count": 37,
   "metadata": {},
   "outputs": [],
   "source": [
    "from gurobipy import *\n",
    "import numpy as np\n",
    "from numpy import genfromtxt\n",
    "import csv\n",
    "import time\n",
    "\n",
    "GRID = np.array([[8, 7, 6, 9, 0, 0, 0, 0, 0],\n",
    "                 [0, 1, 0, 0, 0, 6, 0, 0, 0],\n",
    "                 [0, 4, 0, 3, 0, 5, 8, 0, 0],\n",
    "                 [4, 0, 0, 0, 0, 0, 2, 1, 0],\n",
    "                 [0, 9, 0, 5, 0, 0, 0, 0, 0],\n",
    "                 [0, 5, 0, 0, 4, 0, 3, 0, 6],\n",
    "                 [0, 2, 9, 0, 0, 0, 0, 0, 8],\n",
    "                 [0, 0, 4, 6, 9, 0, 1, 7, 3],\n",
    "                 [0, 0, 0, 0, 0, 1, 0, 0, 4]])"
   ]
  },
  {
   "cell_type": "markdown",
   "metadata": {},
   "source": [
    "## Step 1.2: Build Gurobi Binary Integer Program"
   ]
  },
  {
   "cell_type": "code",
   "execution_count": 38,
   "metadata": {},
   "outputs": [],
   "source": [
    "def build_sudoku_model_gurobi(grid):\n",
    "    \n",
    "    m = Model(\"Solve_Sudoku\")\n",
    "    \n",
    "    # Add Binary Variables\n",
    "    # x_i,j,k = 1 if cell in row i column j is number k\n",
    "    rows = range(9)\n",
    "    columns = range(9)\n",
    "    numbers = range(9)\n",
    "    \n",
    "    v = m.addVars(rows, columns, numbers, vtype = GRB.BINARY, name = 'v')\n",
    "    \n",
    "    # Assign values for filled in cells\n",
    "    for i in rows:\n",
    "        for j in columns:\n",
    "            if GRID[i][j] != 0:\n",
    "                v[i,j,GRID[i][j]-1].lb = 1\n",
    "    \n",
    "    # Each cell contains one number\n",
    "    each_cell = m.addConstrs(v.sum(i,j,'*') == 1 for i in rows for j in columns)\n",
    "    \n",
    "    # Each row has one of each number\n",
    "    each_row = m.addConstrs(quicksum([v[i,j,k] for j in columns]) \n",
    "    == 1 for i in rows for k in numbers)\n",
    "    \n",
    "    # Each column has one of each number\n",
    "    each_col = m.addConstrs(quicksum([v[i,j,k] for i in rows]) \n",
    "    == 1 for j in columns for k in numbers)\n",
    "    \n",
    "    # Each box has one of each number\n",
    "    for a in range(3):\n",
    "        for b in range(3):\n",
    "            box_row = [3*a, 3*a+1, 3*a+2]\n",
    "            box_col = [3*b, 3*b+1, 3*b+2]\n",
    "            each_box = m.addConstrs(quicksum([v[i,j,k] for i in box_row\n",
    "                                              for j in box_col]) == 1 for k in numbers)\n",
    "    return m, v, GRID"
   ]
  },
  {
   "cell_type": "markdown",
   "metadata": {},
   "source": [
    "## Step 1.3: Function for Printing Solution"
   ]
  },
  {
   "cell_type": "code",
   "execution_count": 39,
   "metadata": {},
   "outputs": [],
   "source": [
    "def print_solution(m, GRID):  \n",
    "    index = []\n",
    "    for z in m.getVars():\n",
    "        if z.x == 1:\n",
    "            index.append(z.varName) \n",
    "    for c in range(len(index)):\n",
    "        new_list = list(str(index[c]))\n",
    "        i = int(new_list[2])\n",
    "        j = int(new_list[4])\n",
    "        k = int(new_list[6])\n",
    "        GRID[i][j] = k + 1\n",
    "    print(GRID)"
   ]
  },
  {
   "cell_type": "markdown",
   "metadata": {},
   "source": [
    "## Step 1.4: Run, Solve, and Print Solution "
   ]
  },
  {
   "cell_type": "code",
   "execution_count": 40,
   "metadata": {},
   "outputs": [
    {
     "name": "stdout",
     "output_type": "stream",
     "text": [
      "Optimize a model with 324 rows, 729 columns and 2916 nonzeros\n",
      "Variable types: 0 continuous, 729 integer (729 binary)\n",
      "Coefficient statistics:\n",
      "  Matrix range     [1e+00, 1e+00]\n",
      "  Objective range  [0e+00, 0e+00]\n",
      "  Bounds range     [1e+00, 1e+00]\n",
      "  RHS range        [1e+00, 1e+00]\n",
      "Presolve removed 324 rows and 729 columns\n",
      "Presolve time: 0.00s\n",
      "Presolve: All rows and columns removed\n",
      "\n",
      "Explored 0 nodes (0 simplex iterations) in 0.01 seconds\n",
      "Thread count was 1 (of 4 available processors)\n",
      "\n",
      "Solution count 1: 0 \n",
      "\n",
      "Optimal solution found (tolerance 1.00e-04)\n",
      "Best objective 0.000000000000e+00, best bound 0.000000000000e+00, gap 0.0000%\n",
      "Solution Found in 0.02991938591003418 seconds.\n",
      "[[8 7 6 9 1 4 5 3 2]\n",
      " [3 1 5 2 8 6 7 4 9]\n",
      " [9 4 2 3 7 5 8 6 1]\n",
      " [4 3 8 7 6 9 2 1 5]\n",
      " [6 9 1 5 2 3 4 8 7]\n",
      " [2 5 7 1 4 8 3 9 6]\n",
      " [1 2 9 4 3 7 6 5 8]\n",
      " [5 8 4 6 9 2 1 7 3]\n",
      " [7 6 3 8 5 1 9 2 4]]\n"
     ]
    }
   ],
   "source": [
    "if __name__ == '__main__':\n",
    "    # Build the model\n",
    "    start_time = time.time()\n",
    "    model, variables, GRID = build_sudoku_model_gurobi(GRID)\n",
    "    model.update()\n",
    "    # Solve the model\n",
    "    model.optimize()\n",
    "    t = time.time() - start_time\n",
    "    print(\"Solution Found in \" + str(t) + \" seconds.\")\n",
    "    print_solution(model, GRID)"
   ]
  }
 ],
 "metadata": {
  "kernelspec": {
   "display_name": "Python 3",
   "language": "python",
   "name": "python3"
  },
  "language_info": {
   "codemirror_mode": {
    "name": "ipython",
    "version": 3
   },
   "file_extension": ".py",
   "mimetype": "text/x-python",
   "name": "python",
   "nbconvert_exporter": "python",
   "pygments_lexer": "ipython3",
   "version": "3.7.0"
  }
 },
 "nbformat": 4,
 "nbformat_minor": 4
}
