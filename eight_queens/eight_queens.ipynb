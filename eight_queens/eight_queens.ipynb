{
 "cells": [
  {
   "cell_type": "markdown",
   "metadata": {},
   "source": [
    "# Eight (N) Queens Problem"
   ]
  },
  {
   "cell_type": "markdown",
   "metadata": {},
   "source": [
    "Problem Description: Place eight (or N) queens on an 8 by 8 (or N by N) chess board in such a way that all the queens do not \"attack\" any other queen."
   ]
  },
  {
   "cell_type": "markdown",
   "metadata": {},
   "source": [
    "Solution Method: Binary Integer Program using Python and Gurobi"
   ]
  },
  {
   "cell_type": "markdown",
   "metadata": {},
   "source": [
    "# # Step 1: Import Packages"
   ]
  },
  {
   "cell_type": "code",
   "execution_count": null,
   "metadata": {},
   "outputs": [],
   "source": [
    "from gurobipy import *\n",
    "import gurobipy as grb\n",
    "from gurobipy import GRB\n",
    "import time"
   ]
  },
  {
   "cell_type": "markdown",
   "metadata": {},
   "source": [
    "# # Step 2: Build Binary Integer Program"
   ]
  },
  {
   "cell_type": "code",
   "execution_count": null,
   "metadata": {},
   "outputs": [],
   "source": [
    "def build_eight_queens(n):\n",
    "    # create model\n",
    "    Q = Model(\"Queens\")\n",
    "    N = range(n)\n",
    "    \n",
    "    # create variables\n",
    "    x = Q.addVars(N,N,vtype = GRB.BINARY, name = \"x\")\n",
    "    \n",
    "    # contrain such that no queen attacks another\n",
    "    \n",
    "    #1) one queen per row\n",
    "    Q.addConstrs(grb.quicksum(x[i,j] for j in N) == 1 for i in N)\n",
    "    #2) one queen per column\n",
    "    Q.addConstrs(grb.quicksum(x[i,j] for i in N) == 1 for j in N)\n",
    "    #3) exactly n queens on board\n",
    "    Q.addConstr(grb.quicksum(x[i,j] for i in N for j in N) == n)\n",
    "    #4) one queen per diagnoal\n",
    "    Q.addConstrs(grb.quicksum(x[i+k,i] for i in range(n-k)) <= 1 for k in N)\n",
    "    Q.addConstrs(grb.quicksum(x[i,i+k] for i in range(n-k)) <= 1 for k in N)\n",
    "    Q.addConstrs(grb.quicksum(x[i+k,n-i-1] for i in range(n-k)) <= 1 for k in range(n))\n",
    "    Q.addConstrs(grb.quicksum(x[i,n-i-k-1] for i in range(n-k)) <= 1 for k in range(n))\n",
    "    #5) arbitrary objective function\n",
    "    Q.setObjective(0)\n",
    "    \n",
    "    return Q, x"
   ]
  },
  {
   "cell_type": "markdown",
   "metadata": {},
   "source": [
    "# # Step 3: Function for Printing Solution"
   ]
  },
  {
   "cell_type": "code",
   "execution_count": null,
   "metadata": {},
   "outputs": [],
   "source": [
    "def print_solution(x,N):\n",
    "    for i in N:\n",
    "        line = \"\"\n",
    "        for j in N:\n",
    "            if x[i,j].x > 0.1:\n",
    "                line = line + \"Q \"\n",
    "            else:\n",
    "                line = line + \". \"\n",
    "        print(line)"
   ]
  },
  {
   "cell_type": "markdown",
   "metadata": {},
   "source": [
    "# # Step 4: Run, Solve, and Print Solution"
   ]
  },
  {
   "cell_type": "code",
   "execution_count": null,
   "metadata": {},
   "outputs": [],
   "source": [
    "if __name__ == '__main__':\n",
    "    # Build the model\n",
    "    for n in [8, 10, 20, 30]:\n",
    "        start_time = time.time()\n",
    "        model, variables = build_eight_queens(n)\n",
    "        model.setParam(\"OutputFlag\", 0)\n",
    "        model.optimize()\n",
    "        status = model.status\n",
    "        # Solve the model\n",
    "        t = time.time() - start_time\n",
    "        print(\"Solution for Board Size \"+ str(n) +\" Found in \" + str(t) + \" seconds.\")\n",
    "        print_solution(variables,range(n))\n",
    "        print()"
   ]
  }
 ],
 "metadata": {
  "kernelspec": {
   "display_name": "Python 3",
   "language": "python",
   "name": "python3"
  },
  "language_info": {
   "codemirror_mode": {
    "name": "ipython",
    "version": 3
   },
   "file_extension": ".py",
   "mimetype": "text/x-python",
   "name": "python",
   "nbconvert_exporter": "python",
   "pygments_lexer": "ipython3",
   "version": "3.7.0"
  }
 },
 "nbformat": 4,
 "nbformat_minor": 4
}
